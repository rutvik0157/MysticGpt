{
  "cells": [
    {
      "cell_type": "code",
      "execution_count": null,
      "metadata": {
        "colab": {
          "background_save": true
        },
        "id": "c48wlSYmw8if",
        "outputId": "acacb09e-7adc-4430-b782-dd98f84a0b24"
      },
      "outputs": [
        {
          "name": "stdout",
          "output_type": "stream",
          "text": [
            "Writing .env\n"
          ]
        }
      ],
      "source": [
        "# Wait 60 seconds before connecting using these details, or login to https://console.neo4j.io to validate the Aura Instance is available\n",
        "%%writefile .env\n",
        "NEO4J_URI='neo4j+s://7db34ce8.databases.neo4j.io'\n",
        "NEO4J_USERNAME='neo4j'\n",
        "NEO4J_PASSWORD= 'MR-7RyVtPsKvsHyxb3Z2ZRGBbR7M7jBOtu4h3Q-GrIg'\n",
        "AURA_INSTANCEID='7db34ce8'\n",
        "AURA_INSTANCENAME='Instance01'"
      ]
    },
    {
      "cell_type": "code",
      "execution_count": null,
      "metadata": {
        "id": "2pB1whPzgGPC"
      },
      "outputs": [],
      "source": [
        "!pip install -q python-dotenv"
      ]
    },
    {
      "cell_type": "code",
      "execution_count": null,
      "metadata": {
        "id": "XWqqJfZNdq7a"
      },
      "outputs": [],
      "source": [
        "from dotenv import load_dotenv\n",
        "import os\n",
        "\n",
        "# Common data processing\n",
        "import textwrap\n",
        "\n",
        "# Langchain\n",
        "# from langchain_community.graphs import Neo4jGraph\n",
        "# from langchain_community.vectorstores import Neo4jVector\n",
        "# from langchain.text_splitter import RecursiveCharacterTextSplitter\n",
        "# from langchain.chains import RetrievalQAWithSourcesChain\n",
        "# from langchain.llms import OpenAI\n",
        "# from langchain.embeddings import OpenAIEmbeddings\n",
        "# from langchain.document_loaders import PyPDFLoader"
      ]
    },
    {
      "cell_type": "code",
      "execution_count": null,
      "metadata": {
        "id": "x95y8I56gVs5"
      },
      "outputs": [],
      "source": [
        "!pip install -q langchain"
      ]
    },
    {
      "cell_type": "code",
      "execution_count": null,
      "metadata": {
        "id": "tBSolrSljWh8"
      },
      "outputs": [],
      "source": [
        "!pip install -q langchain-community"
      ]
    },
    {
      "cell_type": "code",
      "execution_count": null,
      "metadata": {
        "id": "QHPB_OuhfEfQ"
      },
      "outputs": [],
      "source": [
        "from langchain_community.graphs import Neo4jGraph"
      ]
    },
    {
      "cell_type": "code",
      "execution_count": null,
      "metadata": {
        "id": "oVfo_4I9fVzh"
      },
      "outputs": [],
      "source": [
        "from langchain_community.vectorstores import Neo4jVector"
      ]
    },
    {
      "cell_type": "code",
      "execution_count": null,
      "metadata": {
        "id": "jMALOXPbfXBu"
      },
      "outputs": [],
      "source": [
        "from langchain.text_splitter import RecursiveCharacterTextSplitter"
      ]
    },
    {
      "cell_type": "code",
      "execution_count": null,
      "metadata": {
        "id": "C2IUZi3NfZRs"
      },
      "outputs": [],
      "source": [
        "from langchain.chains import RetrievalQAWithSourcesChain"
      ]
    },
    {
      "cell_type": "code",
      "execution_count": null,
      "metadata": {
        "id": "ZuY2AWs0fdi3"
      },
      "outputs": [],
      "source": [
        "from langchain.llms import OpenAI"
      ]
    },
    {
      "cell_type": "code",
      "execution_count": null,
      "metadata": {
        "id": "k2d3xSnTffLF"
      },
      "outputs": [],
      "source": [
        "from langchain.embeddings import OpenAIEmbeddings"
      ]
    },
    {
      "cell_type": "code",
      "execution_count": null,
      "metadata": {
        "id": "SrJf7ep8fh-z"
      },
      "outputs": [],
      "source": [
        "from langchain.document_loaders import PyPDFLoader"
      ]
    },
    {
      "cell_type": "code",
      "execution_count": null,
      "metadata": {
        "id": "s5n20VFFm6Tp"
      },
      "outputs": [],
      "source": [
        "!pip install -q pypdf"
      ]
    },
    {
      "cell_type": "code",
      "execution_count": null,
      "metadata": {
        "id": "NXOmjQZomYK4"
      },
      "outputs": [],
      "source": [
        "loader = PyPDFLoader(\"/content/drive/MyDrive/mystic/vachnamrut.pdf\")\n",
        "pages = loader.load_and_split()"
      ]
    },
    {
      "cell_type": "code",
      "execution_count": null,
      "metadata": {
        "id": "ZB0tehNUm2Yi"
      },
      "outputs": [],
      "source": [
        "print(len(pages))"
      ]
    },
    {
      "cell_type": "code",
      "execution_count": null,
      "metadata": {
        "id": "tH_jL18Upvsk"
      },
      "outputs": [],
      "source": [
        "print(pages[0])"
      ]
    },
    {
      "cell_type": "code",
      "execution_count": null,
      "metadata": {
        "id": "DUHfuD7MnT2J"
      },
      "outputs": [],
      "source": [
        "print(pages)"
      ]
    },
    {
      "cell_type": "code",
      "execution_count": null,
      "metadata": {
        "id": "HCT-86UinWaX"
      },
      "outputs": [],
      "source": [
        "text_splitter = RecursiveCharacterTextSplitter(chunk_size=1000, chunk_overlap=0)\n",
        "chunks = text_splitter.split_documents(pages)\n"
      ]
    },
    {
      "cell_type": "code",
      "execution_count": null,
      "metadata": {
        "id": "om9ptyaKnv--"
      },
      "outputs": [],
      "source": [
        "print(len(chunks))"
      ]
    },
    {
      "cell_type": "code",
      "execution_count": null,
      "metadata": {
        "id": "vo9JBBOXnyLM"
      },
      "outputs": [],
      "source": [
        "print(chunks[2263])"
      ]
    },
    {
      "cell_type": "code",
      "execution_count": null,
      "metadata": {
        "id": "3_x7rqXVt_fH"
      },
      "outputs": [],
      "source": [
        "!pip install -q neo4j"
      ]
    },
    {
      "cell_type": "code",
      "execution_count": null,
      "metadata": {
        "id": "9nhOVmG1n5AU"
      },
      "outputs": [],
      "source": [
        "# Warning control\n",
        "import warnings\n",
        "warnings.filterwarnings(\"ignore\")\n",
        "\n",
        "# Load from environment from the credentials file\n",
        "load_dotenv('.env', override=True)\n",
        "NEO4J_URI = os.getenv('NEO4J_URI')\n",
        "\n",
        "NEO4J_USERNAME = os.getenv('NEO4J_USERNAME')\n",
        "\n",
        "NEO4J_PASSWORD = os.getenv('NEO4J_PASSWORD')\n",
        "\n",
        "NEO4J_DATABASE = os.getenv('NEO4J_DATABASE') or 'neo4j'\n",
        "NEO4J_DATABASE = 'neo4j'\n",
        "# Global constants\n",
        "VECTOR_INDEX_NAME = 'pdf_chunks'\n",
        "VECTOR_NODE_LABEL = 'Chunk'\n",
        "VECTOR_SOURCE_PROPERTY = 'text'\n",
        "VECTOR_EMBEDDING_PROPERTY = 'textEmbedding'\n",
        "\n",
        "kg = Neo4jGraph(\n",
        "    url=NEO4J_URI, username=NEO4J_USERNAME, password=NEO4J_PASSWORD, database=NEO4J_DATABASE\n",
        ")"
      ]
    },
    {
      "cell_type": "code",
      "execution_count": null,
      "metadata": {
        "id": "N7HrtzX38FDd"
      },
      "outputs": [],
      "source": [
        "%pip install --upgrade --quiet  langchain-google-genai"
      ]
    },
    {
      "cell_type": "code",
      "execution_count": null,
      "metadata": {
        "colab": {
          "base_uri": "https://localhost:8080/"
        },
        "id": "02yeeGxt72Jv",
        "outputId": "32b3a4f1-e371-4685-f5fc-79616c7e2b63"
      },
      "outputs": [
        {
          "name": "stdout",
          "output_type": "stream",
          "text": [
            "··········\n"
          ]
        }
      ],
      "source": [
        "import getpass\n",
        "import os\n",
        "\n",
        "os.environ[\"GOOGLE_API_KEY\"] = getpass.getpass()"
      ]
    },
    {
      "cell_type": "code",
      "execution_count": null,
      "metadata": {
        "id": "bJjkC9ex92hp"
      },
      "outputs": [],
      "source": [
        "from langchain_google_genai import GoogleGenerativeAIEmbeddings\n"
      ]
    },
    {
      "cell_type": "code",
      "execution_count": null,
      "metadata": {
        "colab": {
          "base_uri": "https://localhost:8080/"
        },
        "id": "jhyRj9P9t9yN",
        "outputId": "7836092a-2387-490f-fd43-9a33d32f771e"
      },
      "outputs": [
        {
          "name": "stderr",
          "output_type": "stream",
          "text": [
            "WARNING:neo4j.notifications:Received notification from DBMS server: {severity: WARNING} {code: Neo.ClientNotification.Statement.FeatureDeprecationWarning} {category: DEPRECATION} {title: This feature is deprecated and will be removed in future versions.} {description: The query used a deprecated procedure. ('db.create.setVectorProperty' has been replaced by 'db.create.setNodeVectorProperty')} {position: line: 1, column: 80, offset: 79} for query: \"UNWIND $data AS row CALL { WITH row MERGE (c:`Chunk` {id: row.id}) WITH c, row CALL db.create.setVectorProperty(c, 'textEmbedding', row.embedding) YIELD node SET c.`text` = row.text SET c += row.metadata } IN TRANSACTIONS OF 1000 ROWS\"\n"
          ]
        }
      ],
      "source": [
        "# Create Neo4j vector store\n",
        "neo4j_vector_store = Neo4jVector.from_documents(\n",
        "    embedding=GoogleGenerativeAIEmbeddings(model='models/embedding-001'),\n",
        "    documents=chunks,\n",
        "    url=NEO4J_URI,\n",
        "    username=NEO4J_USERNAME,\n",
        "    password=NEO4J_PASSWORD,\n",
        "    index_name=VECTOR_INDEX_NAME,\n",
        "    text_node_property=VECTOR_SOURCE_PROPERTY,\n",
        "    embedding_node_property=VECTOR_EMBEDDING_PROPERTY,\n",
        ")"
      ]
    },
    {
      "cell_type": "code",
      "execution_count": null,
      "metadata": {
        "colab": {
          "base_uri": "https://localhost:8080/"
        },
        "id": "FUYs_xQa9_Rb",
        "outputId": "134a905e-9a83-49d1-fd49-57b5c23b4dc1"
      },
      "outputs": [
        {
          "data": {
            "text/plain": [
              "[{'count(r)': 0}]"
            ]
          },
          "execution_count": 31,
          "metadata": {},
          "output_type": "execute_result"
        }
      ],
      "source": [
        "# Create a PDF node\n",
        "cypher = \"\"\"\n",
        "MERGE (p:PDF {name: $pdfName})\n",
        "RETURN p\n",
        "\"\"\"\n",
        "kg.query(cypher, params={'pdfName': \"/content/drive/MyDrive/mystic/vachnamrut.pdf\"})\n",
        "\n",
        "# Connect chunks to their parent PDF with a PART_OF relationship\n",
        "cypher = \"\"\"\n",
        "MATCH (c:Chunk), (p:PDF)\n",
        "WHERE p.name = $pdfName\n",
        "MERGE (c)-[newRelationship:PART_OF]->(p)\n",
        "RETURN count(newRelationship)\n",
        "\"\"\"\n",
        "kg.query(cypher, params={'pdfName': \"/content/drive/MyDrive/mystic/vachnamrut.pdf\"})\n",
        "\n",
        "# Create a NEXT relationship between subsequent chunks\n",
        "cypher = \"\"\"\n",
        "MATCH (c1:Chunk {pdfName: $pdfName}), (c2:Chunk {pdfName: $pdfName})\n",
        "WHERE c1.chunkSeqId = c2.chunkSeqId - 1\n",
        "MERGE (c1)-[r:NEXT]->(c2)\n",
        "RETURN count(r)\n",
        "\"\"\"\n",
        "kg.query(cypher,params={'pdfName': \"/content/drive/MyDrive/mystic/vachnamrut.pdf\"})"
      ]
    },
    {
      "cell_type": "code",
      "execution_count": null,
      "metadata": {
        "id": "pINq2DIxBcls"
      },
      "outputs": [],
      "source": [
        "from langchain_google_genai import ChatGoogleGenerativeAI"
      ]
    },
    {
      "cell_type": "code",
      "execution_count": null,
      "metadata": {
        "colab": {
          "base_uri": "https://localhost:8080/"
        },
        "id": "3x6cm934PKmj",
        "outputId": "505a459e-901f-4646-a93b-0ae06168cfbd"
      },
      "outputs": [
        {
          "name": "stdout",
          "output_type": "stream",
          "text": [
            "\u001b[?25l     \u001b[90m━━━━━━━━━━━━━━━━━━━━━━━━━━━━━━━━━━━━━━━━\u001b[0m \u001b[32m0.0/63.8 kB\u001b[0m \u001b[31m?\u001b[0m eta \u001b[36m-:--:--\u001b[0m\r\u001b[2K     \u001b[90m━━━━━━━━━━━━━━━━━━━━━━━━━━━━━━━━━━━━━━━━\u001b[0m \u001b[32m63.8/63.8 kB\u001b[0m \u001b[31m2.5 MB/s\u001b[0m eta \u001b[36m0:00:00\u001b[0m\n",
            "\u001b[2K     \u001b[90m━━━━━━━━━━━━━━━━━━━━━━━━━━━━━━━━━━━━━━━━\u001b[0m \u001b[32m126.5/126.5 kB\u001b[0m \u001b[31m6.9 MB/s\u001b[0m eta \u001b[36m0:00:00\u001b[0m\n",
            "\u001b[2K     \u001b[90m━━━━━━━━━━━━━━━━━━━━━━━━━━━━━━━━━━━━━━━━\u001b[0m \u001b[32m139.0/139.0 kB\u001b[0m \u001b[31m7.7 MB/s\u001b[0m eta \u001b[36m0:00:00\u001b[0m\n",
            "\u001b[?25h"
          ]
        }
      ],
      "source": [
        "!pip install -qU langchain-google-vertexai"
      ]
    },
    {
      "cell_type": "code",
      "execution_count": null,
      "metadata": {
        "id": "FYvlm6J5PdEc"
      },
      "outputs": [],
      "source": [
        "from langchain_google_vertexai import ChatVertexAI"
      ]
    },
    {
      "cell_type": "code",
      "execution_count": null,
      "metadata": {
        "colab": {
          "base_uri": "https://localhost:8080/"
        },
        "id": "1pIfEiN6RaLv",
        "outputId": "3c8f1b05-4809-4709-a7be-3550d6f9b0ff"
      },
      "outputs": [
        {
          "name": "stdout",
          "output_type": "stream",
          "text": [
            "Enter your LangSmith API key: ··········\n"
          ]
        }
      ],
      "source": [
        "os.environ[\"LANGSMITH_API_KEY\"] = getpass.getpass(\"Enter your LangSmith API key: \")\n",
        "os.environ[\"LANGSMITH_TRACING\"] = \"true\""
      ]
    },
    {
      "cell_type": "code",
      "execution_count": null,
      "metadata": {
        "id": "XBAnSsLFTKpt"
      },
      "outputs": [],
      "source": [
        "os.environ[\"GOOGLE_CLOUD_PROJECT\"] = \"banded-splicer-427209-q9\""
      ]
    },
    {
      "cell_type": "code",
      "execution_count": null,
      "metadata": {
        "id": "22EsRGyUA9aZ"
      },
      "outputs": [],
      "source": [
        "# Create a retriever from the vector store\n",
        "retriever = neo4j_vector_store.as_retriever()\n",
        "\n",
        "# Create a chatbot Question & Answer chain from the retriever\n",
        "chain = RetrievalQAWithSourcesChain.from_chain_type(\n",
        "    ChatGoogleGenerativeAI(temperature=0, model=\"gemini-1.5-pro\"),\n",
        "    chain_type=\"stuff\",\n",
        "    retriever=retriever\n",
        ")\n",
        "\n",
        "# Ask a question\n",
        "question = \" give the title of vachanamrut gadhada pratham first\"\n",
        "answer = chain(\n",
        "    {\"question\": question},\n",
        "    return_only_outputs=True,\n",
        ")\n",
        "print(textwrap.fill(answer[\"answer\"]))"
      ]
    },
    {
      "cell_type": "code",
      "execution_count": null,
      "metadata": {
        "colab": {
          "base_uri": "https://localhost:8080/"
        },
        "id": "zWhkJZKdBmGv",
        "outputId": "60f97830-d7b1-42b7-ea79-b14282554f30"
      },
      "outputs": [
        {
          "data": {
            "text/plain": [
              "[{'nodeCount': 6285}]"
            ]
          },
          "execution_count": 38,
          "metadata": {},
          "output_type": "execute_result"
        }
      ],
      "source": [
        "# Returns the node count\n",
        "kg.query(\"\"\"\n",
        "         MATCH (n)\n",
        "         RETURN count(n) as nodeCount\n",
        "         \"\"\")"
      ]
    },
    {
      "cell_type": "code",
      "execution_count": null,
      "metadata": {
        "id": "-2LFtugrBxAN"
      },
      "outputs": [],
      "source": [
        "# kg.refresh_schema()\n",
        "# print(kg.schema)"
      ]
    },
    {
      "cell_type": "code",
      "execution_count": null,
      "metadata": {
        "colab": {
          "base_uri": "https://localhost:8080/"
        },
        "id": "FT6fZIX2B0Uu",
        "outputId": "07ec4fe7-2204-4775-a1a9-22a0bed611ee"
      },
      "outputs": [
        {
          "data": {
            "text/plain": [
              "[{'id': 3,\n",
              "  'name': 'constraint_1dc138a',\n",
              "  'state': 'ONLINE',\n",
              "  'populationPercent': 100.0,\n",
              "  'type': 'RANGE',\n",
              "  'entityType': 'NODE',\n",
              "  'labelsOrTypes': ['Chunk'],\n",
              "  'properties': ['id'],\n",
              "  'indexProvider': 'range-1.0',\n",
              "  'owningConstraint': 'constraint_1dc138a',\n",
              "  'lastRead': neo4j.time.DateTime(2024, 6, 21, 18, 14, 54, 16000000, tzinfo=<UTC>),\n",
              "  'readCount': 6788},\n",
              " {'id': 0,\n",
              "  'name': 'index_343aff4e',\n",
              "  'state': 'ONLINE',\n",
              "  'populationPercent': 100.0,\n",
              "  'type': 'LOOKUP',\n",
              "  'entityType': 'NODE',\n",
              "  'labelsOrTypes': None,\n",
              "  'properties': None,\n",
              "  'indexProvider': 'token-lookup-1.0',\n",
              "  'owningConstraint': None,\n",
              "  'lastRead': neo4j.time.DateTime(2024, 6, 21, 18, 20, 27, 637000000, tzinfo=<UTC>),\n",
              "  'readCount': 70},\n",
              " {'id': 1,\n",
              "  'name': 'index_f7700477',\n",
              "  'state': 'ONLINE',\n",
              "  'populationPercent': 100.0,\n",
              "  'type': 'LOOKUP',\n",
              "  'entityType': 'RELATIONSHIP',\n",
              "  'labelsOrTypes': None,\n",
              "  'properties': None,\n",
              "  'indexProvider': 'token-lookup-1.0',\n",
              "  'owningConstraint': None,\n",
              "  'lastRead': None,\n",
              "  'readCount': 0},\n",
              " {'id': 2,\n",
              "  'name': 'pdf_chunks',\n",
              "  'state': 'ONLINE',\n",
              "  'populationPercent': 100.0,\n",
              "  'type': 'VECTOR',\n",
              "  'entityType': 'NODE',\n",
              "  'labelsOrTypes': ['Chunk'],\n",
              "  'properties': ['textEmbedding'],\n",
              "  'indexProvider': 'vector-2.0',\n",
              "  'owningConstraint': None,\n",
              "  'lastRead': neo4j.time.DateTime(2024, 6, 21, 18, 19, 29, 993000000, tzinfo=<UTC>),\n",
              "  'readCount': 1}]"
            ]
          },
          "execution_count": 86,
          "metadata": {},
          "output_type": "execute_result"
        }
      ],
      "source": [
        "# kg.query(\"SHOW INDEXES\")"
      ]
    },
    {
      "cell_type": "code",
      "execution_count": null,
      "metadata": {
        "id": "WyhU-5WrB5bK"
      },
      "outputs": [],
      "source": []
    }
  ],
  "metadata": {
    "colab": {
      "provenance": []
    },
    "kernelspec": {
      "display_name": "Python 3",
      "name": "python3"
    },
    "language_info": {
      "name": "python"
    }
  },
  "nbformat": 4,
  "nbformat_minor": 0
}